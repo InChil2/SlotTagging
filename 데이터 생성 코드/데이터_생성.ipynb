{
 "cells": [
  {
   "cell_type": "code",
   "execution_count": null,
   "metadata": {},
   "outputs": [],
   "source": [
    "import pandas as pd\n",
    "beverage = pd.read_csv('beverage.csv')\n",
    "food = pd.read_csv('food.csv')\n",
    "orders = pd.read_csv('new_orders.csv')\n",
    "sample = pd.read_csv('sample.csv', encoding='cp949', index_col=0)\n",
    "\n",
    "# row, col 생략 없이 출력\n",
    "pd.set_option('display.max_rows', None)\n",
    "pd.set_option('display.max_columns', None)\n",
    "print(f'beverage shape : {beverage.shape}')"
   ]
  },
  {
   "cell_type": "code",
   "execution_count": null,
   "metadata": {},
   "outputs": [],
   "source": [
    "# 사용 음료 리스트\n",
    "\n",
    "프라푸치노 = ['더블 에스프레소 칩 프라푸치노', '모카 프라푸치노', '에스프레소 프라푸치노', '자바 칩 프라푸치노',\\\n",
    "         '카라멜 프라푸치노', '화이트 초콜릿 모카 프라푸치노', '바닐라 크림 프라푸치노', '초콜릿 크림 칩 프라푸치노', '제주 유기농 말차로 만든 크림 프라푸치노']\n",
    "블랜디드 = ['망고 패션 프루트 블렌디드','딸기 딜라이트 요거트 블렌디드', '망고 바나나 블렌디드', '민트 초콜릿 칩 블렌디드', '피치 & 레몬 블렌디드']\n",
    "피지오 = ['블랙 티 레모네이드 피지오', '쿨 라임 피지오', '패션 탱고 티 레모네이드 피지오']\n",
    "티 = ['라임 패션 티', '민트 블렌드 티', '아이스 라임 패션 티', '아이스 민트 블렌드 티', '아이스 얼 그레이 티', \\\n",
    "     '아이스 유스베리 티', '아이스 유자 민트 티', '아이스 잉글리쉬 브렉퍼스트 티', '아이스 캐모마일 블렌드 티',\\\n",
    "     '아이스 히비스커스 블렌드 티', '얼 그레이 티', '유스베리 티', '유자 민트 티', '잉글리쉬 브렉퍼스트 티',\\\n",
    "     '자몽 허니 블랙 티', '캐모마일 블렌드 티',  '히비스커스 블렌드 티', '아이스 자몽 허니 블랙 티',\\\n",
    "     '아이스 제주 유기 녹차', '제주 유기 녹차', '패션 프루트 티', '아이스 패션 프루트 티']\n",
    "에스프레소 =[ '에스프레소 콘 파나', '에스프레소 마키아또', '아이스 카페 아메리카노', '카페 아메리카노', '아이스 카라멜 마키아또', \\\n",
    "        '카라멜 마키아또', '아이스 카푸치노', '카푸치노',  '스타벅스 돌체 라떼', '아이스 스타벅스 돌체 라떼', '아이스 카페 라떼', '카페 라떼',\\\n",
    "        '아이스 카페 모카',  '아이스 화이트 초콜릿 모카', '카페 모카', '화이트 초콜릿 모카', '바닐라 플랫 화이트', '바닐라 스타벅스 더블 샷',\\\n",
    "        '에스프레소', '커피 스타벅스 더블 샷', '클래식 아포가토', '헤이즐넛 스타벅스 더블 샷']\n",
    "콜드브루 = ['돌체 콜드 브루', '바닐라 크림 콜드 브루','콜드 브루',  '콜드 브루 오트 라떼']\n",
    "브루드커피 = ['아이스 커피', '오늘의 커피']\n",
    "기타우유음료 = ['돌체 블랙 밀크 티', '아이스 돌체 블랙 밀크 티','아이스 차이 티 라떼', '차이 티 라떼', '시그니처 핫 초콜릿', \\\n",
    "          '아이스 시그니처 초콜릿', '스팀 우유', '우유', '아이스 제주 유기농 말차로 만든 라떼','제주 유기농 말차로 만든 라떼',]\n",
    "li_category = [프라푸치노, 블랜디드, 피지오,티,에스프레소, 콜드브루, 브루드커피, 기타우유음료]\n",
    "li_beverage1 = 프라푸치노+블랜디드+피지오+티+에스프레소+콜드브루+브루드커피+기타우유음료\n",
    "\n",
    "sum = 0\n",
    "for i in li_category:\n",
    "  sum += len(i)\n",
    "print(sum)"
   ]
  },
  {
   "cell_type": "code",
   "execution_count": null,
   "metadata": {},
   "outputs": [],
   "source": [
    "# 음료이름 맞게 썼는지 확인\n",
    "pd.DataFrame(li_beverage1).rename(columns={0:'이름'}).merge(beverage[beverage.이름.isin(li_beverage1)], on='이름', how='outer').URL.isnull().sum()"
   ]
  },
  {
   "cell_type": "code",
   "execution_count": null,
   "metadata": {},
   "outputs": [],
   "source": [
    "# 77개로 추린 새음료 리스트 csv로 저장\n",
    "beverage[beverage.이름.isin(li_beverage1)].to_csv('beverage_77.csv', index=False)"
   ]
  },
  {
   "cell_type": "code",
   "execution_count": 3,
   "metadata": {},
   "outputs": [],
   "source": [
    "import pandas as pd\n",
    "beverage_df = pd.read_csv('beverage_77.csv')\n",
    "quantity =['하나','두','세','네','다섯','여섯','일곱','여덟','아홉','열','스물']\n",
    "food_df = pd.read_csv('food.csv')"
   ]
  },
  {
   "cell_type": "code",
   "execution_count": 4,
   "metadata": {},
   "outputs": [],
   "source": [
    "beverage = beverage_df['이름'].to_list()\n",
    "quantity = quantity\n",
    "size = ['Short','숏','Tall','톨','Grande','그란데','Venti','벤티']\n",
    "syrup = ['바닐라 시럽', '헤이즐넛 시럽', '카라멜 시럽', '클래식 시럽', '모카 시럽', '화이트 모카', '돌체 시럽']\n",
    "food = food_df['이름'].to_list()"
   ]
  },
  {
   "cell_type": "markdown",
   "metadata": {},
   "source": [
    "### 푸드 제외 버전"
   ]
  },
  {
   "cell_type": "code",
   "execution_count": null,
   "metadata": {},
   "outputs": [],
   "source": [
    "# 실행하면 램 터지는 구문\n",
    "import time\n",
    "from tqdm import tqdm\n",
    "\n",
    "result_li2 = []\n",
    "append_2 = result_li2.append\n",
    "\n",
    "\n",
    "for bev in tqdm(beverage):\n",
    "    time.sleep(0.1)\n",
    "    for siz in size: # 음료, 사이즈 계층\n",
    "      order = [f'/beverage;{bev}/ /size;{siz}/ 테이크 아웃이요',\n",
    "               f'/beverage;{bev}/ /size;{siz}/ 포장이요',\n",
    "               f'머그잔에 /beverage;{bev}/ /size;{siz}/ 주세요.',\n",
    "               f'/beverage;{bev}/ /size;{siz}/ 주세요. 자바칩 추가하는데 반은 갈아주시고 반은 위에 올려주세요. 휘핑은 빼주세요.',\n",
    "               ]\n",
    "      append_1(order)\n",
    "      for qu in quantity: # 음료, 사이즈, 수량 계층\n",
    "        order = [f'/beverage;{bev}/ /size;{siz}/ /quantity;{qu} 잔/ 주세요',\n",
    "                  f'/beverage;{bev}/ /size;{siz}/ /quantity;{qu} 잔/에 샷 추가해주세요.',\n",
    "                  f'텀블러에 /beverage;{bev}/ /size;{siz}/ /quantity;{qu} 잔/ 주세요',\n",
    "                  f'/beverage;{bev}/ /size;{siz}/ /quantity;{qu} 잔/이요. 캐리어에 담아주세요.',\n",
    "                  f'/beverage;{bev}/ /size;{siz}/ /quantity;{qu} 잔/, /beverage;{bev}/ /size;{siz}/ /quantity;{qu} 잔/요',\n",
    "                  f'/beverage;{bev}/ /quantity;{qu} 잔/이요. /size;{siz}/로 주세요. 테이크아웃잔에 주세요.',\n",
    "                  f'/beverage;{bev}/ /size;{siz}/ /quantity;{qu} 잔/, /beverage;{bev}/ /size;{siz}/ /quantity;{qu} 잔/이요',\n",
    "                  f'/size;{siz}/ /beverage;{bev}/ /quantity;{qu} 잔/요',\n",
    "                  ]\n",
    "        append_1(order)\n",
    "        for sy in syrup: # 음료, 사이즈, 수량, 시럽 계층\n",
    "            order = [\n",
    "                f'/beverage;{bev}/ /size;{siz}/ /quantity;{qu} 잔/이요. /syrup;{sy}/ 5번 넣어주세요. 텀블러에 담아갈게요.',\n",
    "                f'/beverage;{bev}/ /size;{siz}/ /quantity;{qu} 잔/요. /syrup;{sy}/ 좀만 넣어주세요.']\n",
    "            append_2(order)\n"
   ]
  },
  {
   "cell_type": "code",
   "execution_count": null,
   "metadata": {},
   "outputs": [],
   "source": [
    "# 텍스트 파일에 한 줄 씩 저장\n",
    "import itertools\n",
    "result2 = list(itertools.chain(*result_li2))\n",
    "with open('data_foodx.txt','a') as f:\n",
    "    for i in result2:\n",
    "        f.write(f'{i}\\n')\n"
   ]
  },
  {
   "cell_type": "code",
   "execution_count": null,
   "metadata": {},
   "outputs": [],
   "source": [
    "# 제대로 하나 씩 출력 되는지 확인\n",
    "pd.DataFrame(result2).value_counts().sort_values(ascending=False)"
   ]
  },
  {
   "cell_type": "markdown",
   "metadata": {},
   "source": [
    "### 푸드 포함 버전"
   ]
  },
  {
   "cell_type": "code",
   "execution_count": 3,
   "metadata": {},
   "outputs": [
    {
     "name": "stderr",
     "output_type": "stream",
     "text": [
      "100%|██████████| 77/77 [09:27<00:00,  7.37s/it]\n"
     ]
    }
   ],
   "source": [
    "# 실행하면 램 터지는 구문\n",
    "import time\n",
    "from tqdm import tqdm\n",
    "\n",
    "result_li1 = []\n",
    "append_1 = result_li1.append\n",
    "\n",
    "\n",
    "for bev in tqdm(beverage):\n",
    "    time.sleep(0.1)\n",
    "    for siz in size: # 음료, 사이즈 계층\n",
    "      order = [f'/beverage;{bev}/ /size;{siz}/ 테이크 아웃이요',\n",
    "               f'/beverage;{bev}/ /size;{siz}/ 포장이요',\n",
    "               f'머그잔에 /beverage;{bev}/ /size;{siz}/ 주세요.',\n",
    "               f'/beverage;{bev}/ /size;{siz}/ 주세요. 자바칩 추가하는데 반은 갈아주시고 반은 위에 올려주세요. 휘핑은 빼주세요.',\n",
    "               ]\n",
    "      append_1(order)\n",
    "      for qu in quantity: # 음료, 사이즈, 수량 계층\n",
    "        order = [f'/beverage;{bev}/ /size;{siz}/ /quantity;{qu} 잔/ 주세요',\n",
    "                  f'/beverage;{bev}/ /size;{siz}/ /quantity;{qu} 잔/에 샷 추가해주세요.',\n",
    "                  f'텀블러에 /beverage;{bev}/ /size;{siz}/ /quantity;{qu} 잔/ 주세요',\n",
    "                  f'/beverage;{bev}/ /size;{siz}/ /quantity;{qu} 잔/이요. 캐리어에 담아주세요.',\n",
    "                  f'/beverage;{bev}/ /size;{siz}/ /quantity;{qu} 잔/, /beverage;{bev}/ /size;{siz}/ /quantity;{qu} 잔/요',\n",
    "                  f'/beverage;{bev}/ /quantity;{qu} 잔/이요. /size;{siz}/로 주세요. 테이크아웃잔에 주세요.',\n",
    "                  f'/beverage;{bev}/ /size;{siz}/ /quantity;{qu} 잔/, /beverage;{bev}/ /size;{siz}/ /quantity;{qu} 잔/이요',\n",
    "                  f'/size;{siz}/ /beverage;{bev}/ /quantity;{qu} 잔/요',\n",
    "                  ]\n",
    "        append_1(order)\n",
    "        for sy in syrup: # 음료, 사이즈, 수량, 시럽 계층\n",
    "            order = [\n",
    "                f'/beverage;{bev}/ /size;{siz}/ /quantity;{qu} 잔/이요. /syrup;{sy}/ 5번 넣어주세요. 텀블러에 담아갈게요.',\n",
    "                f'/beverage;{bev}/ /size;{siz}/ /quantity;{qu} 잔/요. /syrup;{sy}/ 좀만 넣어주세요.']\n",
    "            append_1(order)\n",
    "            for fo in food: # 음료, 사이즈, 수량, 음식 계층\n",
    "                order = [f'/food;{fo}/ /quantity;{qu} 개/랑요, /beverage;{bev}/ /quantity;{qu} 잔/ /syrup;{sy}/ 추가에, /beverage;{bev}/ /quantity;{qu} 잔/이요.',\n",
    "                    f'/food;{fo}/랑, /beverage;{bev}/ /syrup;{sy}/ 추가 /quantity;{qu} 잔/, /beverage;{bev}/ /syrup;{sy}/ 추가 /quantity;{qu} 잔/ 주세요.',\n",
    "                    f'/beverage;{bev}/ /quantity;{qu} 잔/이랑요, /food;{fo}/ 도 주세요. 사이즈는 /size;{siz}/요.']\n",
    "                append_1(order)\n",
    "\n",
    "\n",
    "        for fo in food: # 음료, 사이즈, 수량, 음식 계층\n",
    "            order = [f'/food;{fo}/ /quantity;{qu} 개/랑요, /beverage;{bev}/ /quantity;{qu} 잔/, /beverage;{bev}/ /quantity;{qu} 잔/이요.',\n",
    "                f'/food;{fo}/랑, /beverage;{bev}/ /quantity;{qu} 잔/, /beverage;{bev}/ /quantity;{qu} 잔/ 주세요.',\n",
    "                f'/beverage;{bev}/ /quantity;{qu} 잔/이랑요, /food;{fo}/ 도 주세요. 사이즈는 /size;{siz}/요.']\n",
    "            append_1(order)\n"
   ]
  },
  {
   "cell_type": "code",
   "execution_count": 4,
   "metadata": {},
   "outputs": [],
   "source": [
    "# 한 줄 씩 텍스트 파일에 저장\n",
    "import itertools\n",
    "result1 = list(itertools.chain(*result_li1))\n",
    "with open('data_last.txt','a') as f:\n",
    "    for i in result1:\n",
    "        f.write(f'{i}\\n')\n"
   ]
  },
  {
   "cell_type": "code",
   "execution_count": 2,
   "metadata": {},
   "outputs": [
    {
     "ename": "NameError",
     "evalue": "name 'result_li1' is not defined",
     "output_type": "error",
     "traceback": [
      "\u001b[0;31m---------------------------------------------------------------------------\u001b[0m",
      "\u001b[0;31mNameError\u001b[0m                                 Traceback (most recent call last)",
      "\u001b[0;32m<ipython-input-2-ec4fa8f71015>\u001b[0m in \u001b[0;36m<module>\u001b[0;34m\u001b[0m\n\u001b[0;32m----> 1\u001b[0;31m \u001b[0mresult_li1\u001b[0m\u001b[0;34m\u001b[0m\u001b[0;34m\u001b[0m\u001b[0m\n\u001b[0m",
      "\u001b[0;31mNameError\u001b[0m: name 'result_li1' is not defined"
     ]
    }
   ],
   "source": [
    "# 제대로 하나 씩 들어갔는지 확인\n",
    "pd.DataFrame(result1).value_counts().sort_values(ascending=False)"
   ]
  }
 ],
 "metadata": {
  "interpreter": {
   "hash": "40d3a090f54c6569ab1632332b64b2c03c39dcf918b08424e98f38b5ae0af88f"
  },
  "kernelspec": {
   "display_name": "Python 3.8.8 64-bit ('base': conda)",
   "name": "python3"
  },
  "language_info": {
   "codemirror_mode": {
    "name": "ipython",
    "version": 3
   },
   "file_extension": ".py",
   "mimetype": "text/x-python",
   "name": "python",
   "nbconvert_exporter": "python",
   "pygments_lexer": "ipython3",
   "version": "3.8.8"
  },
  "orig_nbformat": 4
 },
 "nbformat": 4,
 "nbformat_minor": 2
}
